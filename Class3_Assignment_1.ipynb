{
 "cells": [
  {
   "cell_type": "markdown",
   "metadata": {},
   "source": [
    "# Q1 Area of Triangle"
   ]
  },
  {
   "cell_type": "code",
   "execution_count": 1,
   "metadata": {},
   "outputs": [
    {
     "name": "stdout",
     "output_type": "stream",
     "text": [
      "Enter the value of side 1: 5\n",
      "Enter the value of side 2: 6\n",
      "Enter the value of side 3: 7\n",
      "Area of the triangle 4.898979485566356\n"
     ]
    }
   ],
   "source": [
    "class Triangle:\n",
    "    def __init__(self,side1,side2,side3):\n",
    "        self.side1=side1\n",
    "        self.side2=side2\n",
    "        self.side3=side3\n",
    "    \n",
    "    def area(self):\n",
    "        s=(self.side1+self.side2+self.side3)/2\n",
    "        return ((s-self.side1)*(s-self.side2)*(s-self.side3))**0.5\n",
    "\n",
    "a=float(input('Enter the value of side 1: '))\n",
    "b=float(input('Enter the value of side 2: '))\n",
    "c=float(input('Enter the value of side 3: '))\n",
    "print('Area of the triangle',Triangle(a,b,c).area())"
   ]
  },
  {
   "cell_type": "markdown",
   "metadata": {},
   "source": [
    "#     Q2 function filter_long_words"
   ]
  },
  {
   "cell_type": "code",
   "execution_count": 2,
   "metadata": {},
   "outputs": [],
   "source": [
    "def filter_lw(string,integer):\n",
    "    wordlist=[]\n",
    "    for i in string.split():\n",
    "        if len(i)>integer:\n",
    "            wordlist.append(i)\n",
    "    return wordlist"
   ]
  },
  {
   "cell_type": "code",
   "execution_count": 6,
   "metadata": {},
   "outputs": [
    {
     "data": {
      "text/plain": [
       "['Datascience']"
      ]
     },
     "execution_count": 6,
     "metadata": {},
     "output_type": "execute_result"
    }
   ],
   "source": [
    "filter_lw('Acadgild, MedPlus, Datascience',9)"
   ]
  },
  {
   "cell_type": "markdown",
   "metadata": {},
   "source": [
    "# Q3: List of words in Integers"
   ]
  },
  {
   "cell_type": "code",
   "execution_count": 7,
   "metadata": {},
   "outputs": [],
   "source": [
    "def maps_lw(x):\n",
    "    lst = list(x.split(','))\n",
    "    y=[]\n",
    "    for i in lst:\n",
    "        y.append(len(i))\n",
    "    return y"
   ]
  },
  {
   "cell_type": "code",
   "execution_count": 8,
   "metadata": {},
   "outputs": [
    {
     "data": {
      "text/plain": [
       "[8, 7, 11]"
      ]
     },
     "execution_count": 8,
     "metadata": {},
     "output_type": "execute_result"
    }
   ],
   "source": [
    "maps_lw('Acadgild,MedPlus,Datascience')\n"
   ]
  },
  {
   "cell_type": "code",
   "execution_count": 9,
   "metadata": {},
   "outputs": [],
   "source": [
    "def vowel_or_not(x):\n",
    "    vowels=['a','e','i','o','u']\n",
    "    if x in vowels:\n",
    "        return True\n",
    "    return False"
   ]
  },
  {
   "cell_type": "code",
   "execution_count": 10,
   "metadata": {},
   "outputs": [
    {
     "data": {
      "text/plain": [
       "False"
      ]
     },
     "execution_count": 10,
     "metadata": {},
     "output_type": "execute_result"
    }
   ],
   "source": [
    "vowel_or_not('k')"
   ]
  },
  {
   "cell_type": "code",
   "execution_count": 11,
   "metadata": {},
   "outputs": [
    {
     "data": {
      "text/plain": [
       "True"
      ]
     },
     "execution_count": 11,
     "metadata": {},
     "output_type": "execute_result"
    }
   ],
   "source": [
    "vowel_or_not('u')"
   ]
  },
  {
   "cell_type": "code",
   "execution_count": null,
   "metadata": {},
   "outputs": [],
   "source": []
  }
 ],
 "metadata": {
  "kernelspec": {
   "display_name": "Python 3",
   "language": "python",
   "name": "python3"
  },
  "language_info": {
   "codemirror_mode": {
    "name": "ipython",
    "version": 3
   },
   "file_extension": ".py",
   "mimetype": "text/x-python",
   "name": "python",
   "nbconvert_exporter": "python",
   "pygments_lexer": "ipython3",
   "version": "3.7.0"
  }
 },
 "nbformat": 4,
 "nbformat_minor": 2
}
